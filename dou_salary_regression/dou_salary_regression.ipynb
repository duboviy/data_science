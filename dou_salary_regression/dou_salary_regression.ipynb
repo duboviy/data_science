{
 "cells": [
  {
   "cell_type": "markdown",
   "metadata": {},
   "source": [
    "# DOU Salary Regression\n",
    "Predict the salaries of Project Managers in Lviv, using the salary dataset from DOU.ua."
   ]
  },
  {
   "cell_type": "code",
   "execution_count": 147,
   "metadata": {
    "collapsed": true
   },
   "outputs": [],
   "source": [
    "from urllib.request import urlretrieve\n",
    "\n",
    "import matplotlib.pyplot as plt\n",
    "import numpy as np\n",
    "import pandas as pd\n",
    "\n",
    "from sklearn import linear_model\n",
    "from sklearn.metrics import r2_score"
   ]
  },
  {
   "cell_type": "code",
   "execution_count": 148,
   "metadata": {
    "collapsed": true
   },
   "outputs": [],
   "source": [
    "%matplotlib inline"
   ]
  },
  {
   "cell_type": "markdown",
   "metadata": {},
   "source": [
    "## Config"
   ]
  },
  {
   "cell_type": "code",
   "execution_count": 149,
   "metadata": {
    "collapsed": true
   },
   "outputs": [],
   "source": [
    "dataset_file_name = \"2017_june_final.csv\"\n",
    "download_fresh_data = True"
   ]
  },
  {
   "cell_type": "markdown",
   "metadata": {},
   "source": [
    "## Prepare Data"
   ]
  },
  {
   "cell_type": "code",
   "execution_count": 150,
   "metadata": {
    "collapsed": true
   },
   "outputs": [],
   "source": [
    "# Pulling fresh data from the Internet, if we want to.\n",
    "if download_fresh_data:\n",
    "    urlretrieve(\"https://github.com/imax/dou-salaries/raw/master/data/\"\n",
    "                + dataset_file_name, dataset_file_name)"
   ]
  },
  {
   "cell_type": "code",
   "execution_count": 151,
   "metadata": {
    "collapsed": true
   },
   "outputs": [],
   "source": [
    "# Loading the data into memory.\n",
    "df = pd.read_csv(dataset_file_name)"
   ]
  },
  {
   "cell_type": "code",
   "execution_count": 152,
   "metadata": {},
   "outputs": [],
   "source": [
    "# Filtering the data.\n",
    "# Removing the extreme examples, and limiting our scope to one city and position.\n",
    "df = df[(df[\"salary\"] <= 10000) & \n",
    "        (df[\"exp\"] < 10) & \n",
    "        (df[\"Город\"] == \"Киев\") & \n",
    "        (df[\"Должность\"] == \"Senior QA engineer\") &\n",
    "        (df[\"Специализация\"] == \"Automation QA\") &\n",
    "        (df[\"Тип.компании\"] == \"Аутсорсинговая\")]"
   ]
  },
  {
   "cell_type": "markdown",
   "metadata": {},
   "source": [
    "## Train Linear Regression"
   ]
  },
  {
   "cell_type": "code",
   "execution_count": 153,
   "metadata": {},
   "outputs": [],
   "source": [
    "X = df[\"exp\"].values.reshape(-1, 1)\n",
    "y = df[\"salary\"].values.reshape(-1, 1)"
   ]
  },
  {
   "cell_type": "code",
   "execution_count": 154,
   "metadata": {},
   "outputs": [
    {
     "data": {
      "image/png": "[encoded data removed]",
      "text/plain": [
       "<matplotlib.figure.Figure at 0x1214737b8>"
      ]
     },
     "metadata": {},
     "output_type": "display_data"
    }
   ],
   "source": [
    "plt.hist(y)\n",
    "plt.show()"
   ]
  },
  {
   "cell_type": "code",
   "execution_count": 155,
   "metadata": {},
   "outputs": [
    {
     "name": "stdout",
     "output_type": "stream",
     "text": [
      "25% percentile: 2575.0\n",
      "50% percentile: 2850.0\n",
      "75% percentile: 3000.0\n"
     ]
    }
   ],
   "source": [
    "# any percentile between 0 and 100 can be computed for any collection of values\n",
    "# and it is always an element of the collection, used np.percentile function\n",
    "# it automatically sort passed collection to it\n",
    "print(f'25% percentile: {np.percentile(y, 25)}')\n",
    "print(f'50% percentile: {np.percentile(y, 50)}')\n",
    "print(f'75% percentile: {np.percentile(y, 75)}')"
   ]
  },
  {
   "cell_type": "code",
   "execution_count": 156,
   "metadata": {
    "collapsed": true
   },
   "outputs": [],
   "source": [
    "dataset_file_name = \"2016_may_final.csv\"\n",
    "download_fresh_data = True"
   ]
  },
  {
   "cell_type": "code",
   "execution_count": 157,
   "metadata": {
    "collapsed": true
   },
   "outputs": [],
   "source": [
    "# Pulling fresh data from the Internet, if we want to.\n",
    "if download_fresh_data:\n",
    "    urlretrieve(\"https://github.com/imax/dou-salaries/raw/master/data/\"\n",
    "                + dataset_file_name, dataset_file_name)"
   ]
  },
  {
   "cell_type": "code",
   "execution_count": 158,
   "metadata": {},
   "outputs": [],
   "source": [
    "# Loading the data into memory.\n",
    "df = pd.read_csv(dataset_file_name)"
   ]
  },
  {
   "cell_type": "code",
   "execution_count": 159,
   "metadata": {
    "collapsed": true
   },
   "outputs": [],
   "source": [
    "# Filtering the data.\n",
    "# Removing the extreme examples, and limiting our scope to one city and position.\n",
    "df = df[(df[\"salary\"] <= 10000) & \n",
    "        (df[\"exp\"] < 10) & \n",
    "        (df[\"Город\"] == \"Киев\") & \n",
    "        (df[\"Должность\"] == \"Senior QA engineer\") &\n",
    "        (df[\"Специализация\"] == \"Automation QA\") &\n",
    "        (df[\"Тип.компании\"] == \"Аутсорсинговая\")]"
   ]
  },
  {
   "cell_type": "code",
   "execution_count": 160,
   "metadata": {},
   "outputs": [],
   "source": [
    "X = df[\"exp\"].values.reshape(-1, 1)\n",
    "y = df[\"salary\"].values.reshape(-1, 1)"
   ]
  },
  {
   "cell_type": "code",
   "execution_count": 161,
   "metadata": {},
   "outputs": [
    {
     "data": {
      "image/png": "[encoded data removed]",
      "text/plain": [
       "<matplotlib.figure.Figure at 0x121839518>"
      ]
     },
     "metadata": {},
     "output_type": "display_data"
    }
   ],
   "source": [
    "plt.hist(y)\n",
    "plt.show()"
   ]
  },
  {
   "cell_type": "code",
   "execution_count": 162,
   "metadata": {},
   "outputs": [
    {
     "name": "stdout",
     "output_type": "stream",
     "text": [
      "25% percentile: 2450.0\n",
      "50% percentile: 2565.0\n",
      "75% percentile: 2900.0\n"
     ]
    }
   ],
   "source": [
    "print(f'25% percentile: {np.percentile(y, 25)}')\n",
    "print(f'50% percentile: {np.percentile(y, 50)}')\n",
    "print(f'75% percentile: {np.percentile(y, 75)}')"
   ]
  },
  {
   "cell_type": "code",
   "execution_count": 163,
   "metadata": {
    "collapsed": true
   },
   "outputs": [],
   "source": [
    "# Looks like salary of Senior Automation QA engineer that works in Kyiv's \"galera\" changed a lot\n",
    "# we can observe a big salary bump within May 2016 to June 2018 (please observe histograms above), e.g.\n",
    "# difference between percentiles:\n",
    "### 25% percentile: 2575 (year 2017) - 2450 (year 2016) = + 125 $\n",
    "### 50% percentile: 2850 (year 2017) - 2565 (year 2016) = + 285 $\n",
    "### 75% percentile: 3000 (year 2017) - 2900 (year 2016) = + 100 $\n",
    "# so average salary observably increased."
   ]
  },
  {
   "cell_type": "code",
   "execution_count": 164,
   "metadata": {},
   "outputs": [
    {
     "data": {
      "text/plain": [
       "LinearRegression(copy_X=True, fit_intercept=True, n_jobs=1, normalize=False)"
      ]
     },
     "execution_count": 164,
     "metadata": {},
     "output_type": "execute_result"
    }
   ],
   "source": [
    "# use old May 2016 data to train model\n",
    "salary_regression = linear_model.LinearRegression()\n",
    "salary_regression.fit(X, y)"
   ]
  },
  {
   "cell_type": "markdown",
   "metadata": {},
   "source": [
    "## Plot & Predict New Examples"
   ]
  },
  {
   "cell_type": "code",
   "execution_count": 165,
   "metadata": {},
   "outputs": [
    {
     "name": "stdout",
     "output_type": "stream",
     "text": [
      "New examples:\n",
      "2.0 yrs. -> $2581\n",
      "3.5 yrs. -> $2640\n",
      "4.5 yrs. -> $2679\n"
     ]
    }
   ],
   "source": [
    "# Using the trained model to predict salaries for previously unseen data.\n",
    "# (2.0, 3.5, 4.5 years of experience).\n",
    "print(\"New examples:\")\n",
    "X_new_examples = np.array([2.0, 3.5, 4.5]).reshape(-1, 1)\n",
    "y_new_examples = salary_regression.predict(X_new_examples)\n",
    "print('\\n'.join([\n",
    "    \"{0} yrs. -> ${1:.0f}\".format(exp[0], sal[0])\n",
    "    for exp, sal in zip(X_new_examples, y_new_examples)\n",
    "]))"
   ]
  },
  {
   "cell_type": "code",
   "execution_count": 166,
   "metadata": {},
   "outputs": [
    {
     "data": {
      "image/png": "[encoded data removed]",
      "text/plain": [
       "<matplotlib.figure.Figure at 0x11bfe8160>"
      ]
     },
     "metadata": {},
     "output_type": "display_data"
    }
   ],
   "source": [
    "# Plotting the data and the regression line.\n",
    "plt.figure(facecolor=\"white\", figsize=(12, 8))\n",
    "plt.scatter(\n",
    "    x=df[\"exp\"],\n",
    "    y=df[\"salary\"],\n",
    "    color=\"black\",\n",
    "    facecolor=\"white\",\n",
    "    marker=\"o\",\n",
    "    s=40,\n",
    "    zorder=2\n",
    ")\n",
    "plt.plot(\n",
    "    X,\n",
    "    salary_regression.predict(X),\n",
    "    color=\"blue\",\n",
    "    alpha=0.5,\n",
    "    linewidth=2,\n",
    "    zorder=1\n",
    ")\n",
    "\n",
    "# Add newly predicted values to the plot.\n",
    "plt.scatter(\n",
    "    x=X_new_examples,\n",
    "    y=y_new_examples,\n",
    "    facecolor=\"red\",\n",
    "    marker=\"x\",\n",
    "    s=60,\n",
    "    linewidth=2,\n",
    "    zorder=2\n",
    ")\n",
    "\n",
    "plt.xlim(xmin=-1)\n",
    "plt.ylim(ymin=0)\n",
    "plt.xlabel(\"Years of Experience\")\n",
    "plt.ylabel(\"Monthly Salary, $\")\n",
    "plt.title(\"Salaries of Senior Automation QA Engineers in Kyiv due to DOU stats on May 2016\")\n",
    "plt.show()"
   ]
  },
  {
   "cell_type": "code",
   "execution_count": 167,
   "metadata": {},
   "outputs": [
    {
     "data": {
      "text/plain": [
       "('2017_june_final.csv', <http.client.HTTPMessage at 0x12101c518>)"
      ]
     },
     "execution_count": 167,
     "metadata": {},
     "output_type": "execute_result"
    }
   ],
   "source": [
    "# use new June 2017 data to train model\n",
    "dataset_file_name = \"2017_june_final.csv\"\n",
    "urlretrieve(\"https://github.com/imax/dou-salaries/raw/master/data/\"\n",
    "            + dataset_file_name, dataset_file_name)"
   ]
  },
  {
   "cell_type": "code",
   "execution_count": 168,
   "metadata": {
    "collapsed": true
   },
   "outputs": [],
   "source": [
    "# Loading the data into memory.\n",
    "df = pd.read_csv(dataset_file_name)"
   ]
  },
  {
   "cell_type": "code",
   "execution_count": 169,
   "metadata": {
    "collapsed": true
   },
   "outputs": [],
   "source": [
    "# Filtering the data.\n",
    "# Removing the extreme examples, and limiting our scope to one city and position.\n",
    "df = df[(df[\"salary\"] <= 10000) & \n",
    "        (df[\"exp\"] < 10) & \n",
    "        (df[\"Город\"] == \"Киев\") & \n",
    "        (df[\"Должность\"] == \"Senior QA engineer\") &\n",
    "        (df[\"Специализация\"] == \"Automation QA\") &\n",
    "        (df[\"Тип.компании\"] == \"Аутсорсинговая\")]"
   ]
  },
  {
   "cell_type": "code",
   "execution_count": 170,
   "metadata": {},
   "outputs": [
    {
     "data": {
      "text/plain": [
       "LinearRegression(copy_X=True, fit_intercept=True, n_jobs=1, normalize=False)"
      ]
     },
     "execution_count": 170,
     "metadata": {},
     "output_type": "execute_result"
    }
   ],
   "source": [
    "X = df[\"exp\"].values.reshape(-1, 1)\n",
    "y = df[\"salary\"].values.reshape(-1, 1)\n",
    "\n",
    "salary_regression = linear_model.LinearRegression()\n",
    "salary_regression.fit(X, y)"
   ]
  },
  {
   "cell_type": "code",
   "execution_count": 171,
   "metadata": {},
   "outputs": [
    {
     "name": "stdout",
     "output_type": "stream",
     "text": [
      "New examples:\n",
      "2.0 yrs. -> $2351\n",
      "3.5 yrs. -> $2642\n",
      "4.5 yrs. -> $2837\n"
     ]
    }
   ],
   "source": [
    "# Using the trained model to predict salaries for previously unseen data.\n",
    "# (2.0, 3.5, 4.5 years of experience).\n",
    "print(\"New examples:\")\n",
    "X_new_examples = np.array([2.0, 3.5, 4.5]).reshape(-1, 1)\n",
    "y_new_examples = salary_regression.predict(X_new_examples)\n",
    "print('\\n'.join([\n",
    "    \"{0} yrs. -> ${1:.0f}\".format(exp[0], sal[0])\n",
    "    for exp, sal in zip(X_new_examples, y_new_examples)\n",
    "]))"
   ]
  },
  {
   "cell_type": "code",
   "execution_count": 172,
   "metadata": {},
   "outputs": [
    {
     "data": {
      "image/png": "[encoded data removed]",
      "text/plain": [
       "<matplotlib.figure.Figure at 0x1210caa58>"
      ]
     },
     "metadata": {},
     "output_type": "display_data"
    }
   ],
   "source": [
    "# Plotting the data and the regression line.\n",
    "plt.figure(facecolor=\"white\", figsize=(12, 8))\n",
    "plt.scatter(\n",
    "    x=df[\"exp\"],\n",
    "    y=df[\"salary\"],\n",
    "    color=\"black\",\n",
    "    facecolor=\"white\",\n",
    "    marker=\"o\",\n",
    "    s=40,\n",
    "    zorder=2\n",
    ")\n",
    "plt.plot(\n",
    "    X,\n",
    "    salary_regression.predict(X),\n",
    "    color=\"blue\",\n",
    "    alpha=0.5,\n",
    "    linewidth=2,\n",
    "    zorder=1\n",
    ")\n",
    "\n",
    "# Add newly predicted values to the plot.\n",
    "plt.scatter(\n",
    "    x=X_new_examples,\n",
    "    y=y_new_examples,\n",
    "    facecolor=\"red\",\n",
    "    marker=\"x\",\n",
    "    s=60,\n",
    "    linewidth=2,\n",
    "    zorder=2\n",
    ")\n",
    "\n",
    "plt.xlim(xmin=-1)\n",
    "plt.ylim(ymin=0)\n",
    "plt.xlabel(\"Years of Experience\")\n",
    "plt.ylabel(\"Monthly Salary, $\")\n",
    "plt.title(\"Salaries of Senior Automation QA Engineers in Kyiv due to DOU stats on June 2017\")\n",
    "plt.show()"
   ]
  }
 ],
 "metadata": {
  "kernelspec": {
   "display_name": "Python 3",
   "language": "python",
   "name": "python3"
  },
  "language_info": {
   "codemirror_mode": {
    "name": "ipython",
    "version": 3
   },
   "file_extension": ".py",
   "mimetype": "text/x-python",
   "name": "python",
   "nbconvert_exporter": "python",
   "pygments_lexer": "ipython3",
   "version": "3.6.1"
  }
 },
 "nbformat": 4,
 "nbformat_minor": 1
}
